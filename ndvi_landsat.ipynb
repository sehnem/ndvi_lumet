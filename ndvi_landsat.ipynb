{
 "cells": [
  {
   "cell_type": "code",
   "execution_count": null,
   "metadata": {},
   "outputs": [],
   "source": [
    "# Import the Earth Engine Python API\n",
    "import ee\n",
    "import pandas as pd\n",
    "import numpy as np\n",
    "\n",
    "# Initialize the API\n",
    "ee.Initialize()"
   ]
  },
  {
   "cell_type": "code",
   "execution_count": null,
   "metadata": {},
   "outputs": [],
   "source": [
    "image = \"LANDSAT/LC08/C02/T1_TOA\"\n",
    "\n",
    "# Load the LANDSAT data\n",
    "collection = ee.ImageCollection(image)\n",
    "\n",
    "# Select the band of interest\n",
    "collection = collection.select(['B4', 'B5', 'QA_PIXEL']).filterDate('2015-01-01', '2023-01-01').filterBounds(area_nova)\n",
    "\n",
    "# Define a function to extract the value and date for each image\n",
    "def extract(image):\n",
    "    reduced = image.reduceRegion(reducer=ee.Reducer.mean(), geometry=area_nova, maxPixels=1e9)\n",
    "    b4 = reduced.get('B4')\n",
    "    b5 = reduced.get('B5')\n",
    "    # qa = image.get('QA_PIXEL')\n",
    "    date = image.date().format('YYYY-MM-dd')\n",
    "    return ee.Feature(None, {\"B4\": b4, \"B5\": b5, 'date': date})\n",
    "\n",
    "# Map the function over the collection and get the results\n",
    "results = collection.map(extract).getInfo()"
   ]
  },
  {
   "cell_type": "code",
   "execution_count": null,
   "metadata": {},
   "outputs": [],
   "source": [
    "def extract_qa_info(value):\n",
    "    if pd.isna(value):\n",
    "        return value\n",
    "    value = str(bin(int(value)))[2:]\n",
    "    value = value.zfill(16)\n",
    "    return value\n",
    "\n",
    "def bin_condition(value, slice):\n",
    "    if pd.isna(value):\n",
    "        return value\n",
    "    value = int(value[slice], 2)\n",
    "    if value == 0:\n",
    "        return np.nan\n",
    "    return value"
   ]
  },
  {
   "cell_type": "code",
   "execution_count": null,
   "metadata": {},
   "outputs": [],
   "source": [
    "df = pd.DataFrame.from_records([f['properties'] for f in results['features']])\n",
    "df['date'] = pd.to_datetime(df['date'])\n",
    "df.set_index('date', inplace=True)\n",
    "\n",
    "df[\"NDVI\"] = (df[\"B5\"] - df[\"B4\"]) / (df[\"B5\"] + df[\"B4\"])\n",
    "\n",
    "df[\"NDVI\"].plot()"
   ]
  }
 ],
 "metadata": {
  "kernelspec": {
   "display_name": "venv",
   "language": "python",
   "name": "python3"
  },
  "language_info": {
   "codemirror_mode": {
    "name": "ipython",
    "version": 3
   },
   "file_extension": ".py",
   "mimetype": "text/x-python",
   "name": "python",
   "nbconvert_exporter": "python",
   "pygments_lexer": "ipython3",
   "version": "3.11.3"
  },
  "orig_nbformat": 4
 },
 "nbformat": 4,
 "nbformat_minor": 2
}
