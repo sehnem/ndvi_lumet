{
 "cells": [
  {
   "cell_type": "code",
   "execution_count": null,
   "metadata": {},
   "outputs": [],
   "source": [
    "# Import the Earth Engine Python API\n",
    "import ee\n",
    "import pandas as pd\n",
    "import numpy as np\n",
    "import geopandas as gpd\n",
    "from shapely.geometry import Point, Polygon\n",
    "import geemap\n",
    "\n",
    "# Initialize the API\n",
    "ee.Initialize()"
   ]
  },
  {
   "cell_type": "code",
   "execution_count": null,
   "metadata": {},
   "outputs": [],
   "source": [
    "area_nova = geemap.geojson_to_ee(\"/home/josue/Documentos/sentinel/ndvi_lumet/area_nova.geojson\")"
   ]
  },
  {
   "cell_type": "code",
   "execution_count": null,
   "metadata": {},
   "outputs": [],
   "source": [
    "image = \"COPERNICUS/S2_SR_HARMONIZED\"\n",
    "\n",
    "# Load the LANDSAT data\n",
    "collection = ee.ImageCollection(image)\n",
    "\n",
    "# Select the band of interest\n",
    "collection = collection.select(['B4', 'B8']).filterDate('2015-01-01', '2023-01-01').filterBounds(area_nova)\n",
    "\n",
    "# Define a function to extract the value and date for each image\n",
    "def extract(image):\n",
    "    reduced = image.reduceRegion(reducer=ee.Reducer.mean(), geometry=area_nova, maxPixels=1e9)\n",
    "    nir = reduced.get('B8')\n",
    "    red = reduced.get('B4')\n",
    "    date = image.date().format('YYYY-MM-dd')\n",
    "    return ee.Feature(None, {\"red\": red, \"nir\": nir, 'date': date})\n",
    "\n",
    "# Map the function over the collection and get the results\n",
    "results = collection.map(extract).getInfo()"
   ]
  },
  {
   "cell_type": "code",
   "execution_count": null,
   "metadata": {},
   "outputs": [],
   "source": [
    "df = pd.DataFrame.from_records([f['properties'] for f in results['features']])\n",
    "df['date'] = pd.to_datetime(df['date'])\n",
    "df.set_index('date', inplace=True)\n",
    "\n",
    "df[\"NDVI\"] = (df[\"nir\"] - df[\"red\"]) / (df[\"nir\"] + df[\"red\"])\n",
    "\n",
    "df[\"NDVI\"].plot()\n",
    "\n",
    "# # qa pixel filtering\n",
    "# # https://hyspeedblog.wordpress.com/2014/08/27/working-with-landsat-8-using-and-interpreting-the-quality-assessment-qa-band/\n",
    "# df[\"QA_PIXEL\"] = df[\"QA_PIXEL\"].apply(extract_qa_info)\n",
    "# df[\"CLOUD\"] = df[\"QA_PIXEL\"].apply(bin_condition, slice=slice(0,2))\n",
    "# df[\"CIRRUS\"] = df[\"QA_PIXEL\"].apply(bin_condition, slice=slice(2,4))\n",
    "# df[\"SNOW\"] = df[\"QA_PIXEL\"].apply(bin_condition, slice=slice(4,6))\n",
    "# df[\"VEGETATION\"] = df[\"QA_PIXEL\"].apply(bin_condition, slice=slice(6,8))\n",
    "# df[\"SHADOW\"] = df[\"QA_PIXEL\"].apply(bin_condition, slice=slice(8,10))\n",
    "\n",
    "# # Remove pixels with cloud and cirrus\n",
    "# df.loc[(df[\"CLOUD\"]<2) & (df[\"CIRRUS\"]<2)].dropna(subset=[\"CLOUD\", \"CIRRUS\"])[\"NDVI\"].loc[\"2015\":\"2018\"].plot()"
   ]
  }
 ],
 "metadata": {
  "kernelspec": {
   "display_name": "venv",
   "language": "python",
   "name": "python3"
  },
  "language_info": {
   "codemirror_mode": {
    "name": "ipython",
    "version": 3
   },
   "file_extension": ".py",
   "mimetype": "text/x-python",
   "name": "python",
   "nbconvert_exporter": "python",
   "pygments_lexer": "ipython3",
   "version": "3.11.3"
  },
  "orig_nbformat": 4
 },
 "nbformat": 4,
 "nbformat_minor": 2
}
